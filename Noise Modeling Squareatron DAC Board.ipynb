{
 "cells": [
  {
   "cell_type": "markdown",
   "metadata": {},
   "source": [
    "# Noise Modeling For Squareatron DAC Board\n",
    "Squareatron DAC Board Documentation at: https://github.com/OregonIons/Squareatron_DAC_Board"
   ]
  },
  {
   "cell_type": "code",
   "execution_count": 1,
   "metadata": {},
   "outputs": [],
   "source": [
    "import numpy as np\n",
    "from scipy import constants\n",
    "import matplotlib.pyplot as plt\n",
    "\n",
    "def johnson(res, temp=300):\n",
    "    \"\"\" Johnson Voltage noise density caluclator\n",
    "    :param res: resistance (Ohm)\n",
    "    :param temp: temperature (K)\n",
    "    :return: RMS noise voltage density (V/rtHz)\n",
    "    \"\"\"\n",
    "    return np.sqrt(4*constants.k*res*temp) "
   ]
  },
  {
   "cell_type": "code",
   "execution_count": 18,
   "metadata": {},
   "outputs": [],
   "source": [
    "# LT1667\n",
    "opamp_vn = 3.2e-9  # voltage noise density (V/rtHz)\n",
    "opamp_in = 300e-15  # current noise density (A/rtHz)\n",
    "\n",
    "\n",
    "\"\"\"This is for the lowest noise Op amp, but cannot be powered on DAC Board\"\"\"\n",
    "# LT1007\n",
    "#opamp_vn = 2.5e-9  # voltage noise density (V/rtHz)\n",
    "#opamp_in = 400e-15  # current noise density (A/rtHz)"
   ]
  },
  {
   "cell_type": "markdown",
   "metadata": {},
   "source": [
    "Noise Calculation Taken From : https://www.analog.com/media/en/training-seminars/tutorials/MT-049.pdf\n"
   ]
  },
  {
   "cell_type": "code",
   "execution_count": 19,
   "metadata": {},
   "outputs": [
    {
     "name": "stdout",
     "output_type": "stream",
     "text": [
      "vn_amp: 7.05 nv/rtHz\n"
     ]
    }
   ],
   "source": [
    "\n",
    "R_fb = 10e3\n",
    "R_g = 1e3\n",
    "R_3 = 1/((1/20e3)+(1/1e3))\n",
    "G_subtractor = 1 + R_fb/R_g\n",
    "\n",
    "# all numbers referred to input\n",
    "vn_r_g = johnson(R_g)*(R_fb/R_g)/G_subtractor\n",
    "vn_r_fb = johnson(R_fb)/G_subtractor\n",
    "vn_res = np.sqrt(vn_r_g**2+vn_r_fb**2)\n",
    "\n",
    "vn_opamp_in = opamp_in*R_fb/G_subtractor\n",
    "vn_opamp = np.sqrt(opamp_vn**2 + vn_opamp_in**2)\n",
    "\n",
    "vn_ref = opamp_vn*(R_fb/R_g)/G_subtractor  # only OpAmp vn as all else filtered!\n",
    "\n",
    "vn_r3 = np.sqrt(johnson(R_3)**2+ (opamp_in*R_3)**2)\n",
    "\n",
    "vn_sub = np.sqrt(vn_res**2 + vn_opamp**2 + vn_ref**2 + vn_r3**2)*10**9\n",
    "print(\"{}: {:.2f} nv/rtHz\".format('vn_amp',vn_sub))"
   ]
  },
  {
   "cell_type": "code",
   "execution_count": null,
   "metadata": {},
   "outputs": [],
   "source": []
  }
 ],
 "metadata": {
  "kernelspec": {
   "display_name": "Python 3",
   "language": "python",
   "name": "python3"
  },
  "language_info": {
   "codemirror_mode": {
    "name": "ipython",
    "version": 3
   },
   "file_extension": ".py",
   "mimetype": "text/x-python",
   "name": "python",
   "nbconvert_exporter": "python",
   "pygments_lexer": "ipython3",
   "version": "3.7.3"
  }
 },
 "nbformat": 4,
 "nbformat_minor": 2
}
